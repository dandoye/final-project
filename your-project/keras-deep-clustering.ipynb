{
 "cells": [
  {
   "cell_type": "code",
   "execution_count": 52,
   "metadata": {},
   "outputs": [
    {
     "name": "stdout",
     "output_type": "stream",
     "text": [
      "Requirement already satisfied: pydot in c:\\users\\dandoye\\anaconda3\\envs\\deeplearning\\lib\\site-packages (1.4.1)\n",
      "Requirement already satisfied: pyparsing>=2.1.4 in c:\\users\\dandoye\\anaconda3\\envs\\deeplearning\\lib\\site-packages (from pydot) (2.4.5)\n",
      "Note: you may need to restart the kernel to use updated packages.\n"
     ]
    }
   ],
   "source": [
    "pip install pydot"
   ]
  },
  {
   "cell_type": "code",
   "execution_count": 16,
   "metadata": {},
   "outputs": [],
   "source": [
    "#import sklearn.cluster.k_means_ as Kmeans\n",
    "from sklearn.cluster import KMeans\n",
    "from keras.datasets import mnist\n",
    "from keras.datasets import fashion_mnist\n",
    "from sklearn.metrics import accuracy_score\n",
    "import numpy as np\n",
    "from keras import callbacks\n",
    "from keras.models import Model\n",
    "from keras.optimizers import SGD\n",
    "from keras.layers import Dense, Input\n",
    "from keras.initializers import VarianceScaling\n",
    "from keras.engine.topology import Layer, InputSpec\n",
    "import keras.backend as K\n",
    "#import metrics\n",
    "from skimage.io import imread_collection\n",
    "import cv2\n",
    "import glob\n",
    "import skimage.color as color"
   ]
  },
  {
   "cell_type": "code",
   "execution_count": 2,
   "metadata": {},
   "outputs": [],
   "source": [
    "save_dir = 'weights'"
   ]
  },
  {
   "cell_type": "code",
   "execution_count": 3,
   "metadata": {},
   "outputs": [],
   "source": [
    "import numpy as np\n",
    "from sklearn.metrics import normalized_mutual_info_score, adjusted_rand_score\n",
    "\n",
    "nmi = normalized_mutual_info_score\n",
    "ari = adjusted_rand_score\n",
    "\n",
    "\n",
    "def acc2(y_true, y_pred):\n",
    "    \"\"\"\n",
    "    Calculate clustering accuracy. Require scikit-learn installed\n",
    "    # Arguments\n",
    "        y: true labels, numpy.array with shape `(n_samples,)`\n",
    "        y_pred: predicted labels, numpy.array with shape `(n_samples,)`\n",
    "    # Return\n",
    "        accuracy, in [0,1]\n",
    "    \"\"\"\n",
    "    y_true = y_true.astype(np.int64)\n",
    "    assert y_pred.size == y_true.size\n",
    "    D = max(y_pred.max(), y_true.max()) + 1\n",
    "    w = np.zeros((D, D), dtype=np.int64)\n",
    "    for i in range(y_pred.size):\n",
    "        w[y_pred[i], y_true[i]] += 1\n",
    "    from sklearn.utils.linear_assignment_ import linear_assignment\n",
    "    ind = linear_assignment(w.max() - w)\n",
    "    return sum([w[i, j] for i, j in ind]) * 1.0 / y_pred.size"
   ]
  },
  {
   "cell_type": "markdown",
   "metadata": {},
   "source": [
    "### Get Data"
   ]
  },
  {
   "cell_type": "code",
   "execution_count": 8,
   "metadata": {},
   "outputs": [],
   "source": [
    "(x_train, y_train), (x_test, y_test) = mnist.load_data()\n",
    "x = np.concatenate((x_train, x_test))[:5000]\n",
    "y = np.concatenate((y_train, y_test))[:5000]\n",
    "x = x.reshape((x.shape[0], -1))\n",
    "x = np.divide(x, 255.)"
   ]
  },
  {
   "cell_type": "code",
   "execution_count": 9,
   "metadata": {},
   "outputs": [
    {
     "data": {
      "text/plain": [
       "((28, 28), (784,))"
      ]
     },
     "execution_count": 9,
     "metadata": {},
     "output_type": "execute_result"
    }
   ],
   "source": [
    "x_train[1].shape, x[1].shape"
   ]
  },
  {
   "cell_type": "code",
   "execution_count": 20,
   "metadata": {},
   "outputs": [
    {
     "data": {
      "text/plain": [
       "((9170640,), (2710, 3384))"
      ]
     },
     "execution_count": 20,
     "metadata": {},
     "output_type": "execute_result"
    }
   ],
   "source": [
    "train = []\n",
    "files = glob.glob (\"train_images/subset_10/*.jpg\") # your image path\n",
    "for myFile in files:\n",
    "    image = cv2.imread (myFile)\n",
    "    image_gray = color.rgb2gray(image)\n",
    "    train.append (image_gray)\n",
    "train = np.array(train,dtype='float32')\n",
    "\n",
    "test = []\n",
    "files = glob.glob (\"test_images/subset_10/*.jpg\") # your image path\n",
    "for myFile in files:\n",
    "    image = cv2.imread (myFile)\n",
    "    image_gray = color.rgb2gray(image)\n",
    "    test.append (image_gray)\n",
    "test = np.array(test,dtype='float32')\n",
    "    \n",
    "x = np.reshape(train,[train.shape[0],train.shape[1]*train.shape[2]])#*train.shape[3]])\n",
    "y = np.reshape(test,[test.shape[0],test.shape[1]*test.shape[2]])#*test.shape[3]])\n",
    "\n",
    "#x = imread_collection('train_images/*.jpg')\n",
    "#y = imread_collection('test_images/*.jpg')\n",
    "#x = np.concatenate((x_train, x_test))[:5000]\n",
    "#y = np.concatenate((y_train, y_test))[:5000]\n",
    "x = x.reshape((x.shape[0], -1))\n",
    "x = np.divide(x, 255.)\n",
    "x[1].shape, train[1].shape"
   ]
  },
  {
   "cell_type": "code",
   "execution_count": 14,
   "metadata": {},
   "outputs": [
    {
     "data": {
      "text/plain": [
       "27511920"
      ]
     },
     "execution_count": 14,
     "metadata": {},
     "output_type": "execute_result"
    }
   ],
   "source": [
    "2710*3384*3"
   ]
  },
  {
   "cell_type": "markdown",
   "metadata": {},
   "source": [
    "### Baseline K-Means"
   ]
  },
  {
   "cell_type": "code",
   "execution_count": 88,
   "metadata": {},
   "outputs": [],
   "source": [
    "#10 clusters\n",
    "n_clusters = len(np.unique(y))\n",
    "kmeans = KMeans(n_clusters = n_clusters, n_init = 20, n_jobs = 4)"
   ]
  },
  {
   "cell_type": "code",
   "execution_count": 89,
   "metadata": {},
   "outputs": [
    {
     "name": "stdout",
     "output_type": "stream",
     "text": [
      "Accuracy score is 0.5148\n"
     ]
    },
    {
     "name": "stderr",
     "output_type": "stream",
     "text": [
      "C:\\Users\\dandoye\\Anaconda3\\envs\\deepLearning\\lib\\site-packages\\sklearn\\utils\\linear_assignment_.py:21: DeprecationWarning: The linear_assignment_ module is deprecated in 0.21 and will be removed from 0.23. Use scipy.optimize.linear_sum_assignment instead.\n",
      "  DeprecationWarning)\n",
      "C:\\Users\\dandoye\\Anaconda3\\envs\\deepLearning\\lib\\site-packages\\sklearn\\utils\\linear_assignment_.py:127: DeprecationWarning: The linear_assignment function is deprecated in 0.21 and will be removed from 0.23. Use scipy.optimize.linear_sum_assignment instead.\n",
      "  DeprecationWarning)\n"
     ]
    }
   ],
   "source": [
    "# Train k-means\n",
    "y_pred_kmeans = kmeans.fit_predict(x)\n",
    "\n",
    "#Evaluate accuracy\n",
    "\n",
    "acc=acc(y, y_pred_kmeans)\n",
    "print(\"Accuracy score is\", acc)"
   ]
  },
  {
   "cell_type": "markdown",
   "metadata": {},
   "source": [
    "### Autoencoder"
   ]
  },
  {
   "cell_type": "code",
   "execution_count": 90,
   "metadata": {},
   "outputs": [],
   "source": [
    "def autoencoder(dims, act='relu', init='glorot_uniform'):\n",
    "    \"\"\"\n",
    "    Fully connected auto-encoder model, symmetric.\n",
    "    Arguments:\n",
    "        dims: list of number of units in each layer of encoder. dims[0] is input dim, dims[-1] is units in hidden layer.\n",
    "            The decoder is symmetric with encoder. So number of layers of the auto-encoder is 2*len(dims)-1\n",
    "        act: activation, not applied to Input, Hidden and Output layers\n",
    "    return:\n",
    "        (ae_model, encoder_model), Model of autoencoder and model of encoder\n",
    "    \"\"\"\n",
    "    n_stacks = len(dims) - 1\n",
    "    # input\n",
    "    input_img = Input(shape=(dims[0],), name='input')\n",
    "    x = input_img\n",
    "    # internal layers in encoder\n",
    "    for i in range(n_stacks-1):\n",
    "        x = Dense(dims[i + 1], activation=act, kernel_initializer=init, name='encoder_%d' % i)(x)\n",
    "\n",
    "    # hidden layer\n",
    "    encoded = Dense(dims[-1], kernel_initializer=init, name='encoder_%d' % (n_stacks - 1))(x)  # hidden layer, features are extracted from here\n",
    "\n",
    "    x = encoded\n",
    "    # internal layers in decoder\n",
    "    for i in range(n_stacks-1, 0, -1):\n",
    "        x = Dense(dims[i], activation=act, kernel_initializer=init, name='decoder_%d' % i)(x)\n",
    "\n",
    "    # output\n",
    "    x = Dense(dims[0], kernel_initializer=init, name='decoder_0')(x)\n",
    "    decoded = x\n",
    "    return Model(inputs=input_img, outputs=decoded, name='AE'), Model(inputs=input_img, outputs=encoded, name='encoder')"
   ]
  },
  {
   "cell_type": "code",
   "execution_count": 91,
   "metadata": {},
   "outputs": [],
   "source": [
    "dims = [x.shape[-1], 500, 500, 2000, 10]\n",
    "init = VarianceScaling(scale = 1. / 3., mode = 'fan_in', distribution = 'uniform')\n",
    "pretrain_optimizer = SGD(lr = 1, momentum = 0.9)\n",
    "pretrain_epochs = 200\n",
    "batch_size = 256\n",
    "#save_dir = './results'"
   ]
  },
  {
   "cell_type": "code",
   "execution_count": 92,
   "metadata": {},
   "outputs": [],
   "source": [
    "autoencoder, encoder = autoencoder(dims, init=init)"
   ]
  },
  {
   "cell_type": "code",
   "execution_count": 93,
   "metadata": {},
   "outputs": [
    {
     "data": {
      "image/png": "[encoded data removed]",
      "text/plain": [
       "<IPython.core.display.Image object>"
      ]
     },
     "execution_count": 93,
     "metadata": {},
     "output_type": "execute_result"
    }
   ],
   "source": [
    "from keras.utils import plot_model\n",
    "plot_model(autoencoder, to_file='autoencoder.png', show_shapes=True)\n",
    "from IPython.display import Image\n",
    "Image(filename='autoencoder.png')"
   ]
  },
  {
   "cell_type": "code",
   "execution_count": 94,
   "metadata": {},
   "outputs": [
    {
     "data": {
      "image/png": "[encoded data removed]",
      "text/plain": [
       "<IPython.core.display.Image object>"
      ]
     },
     "execution_count": 94,
     "metadata": {},
     "output_type": "execute_result"
    }
   ],
   "source": [
    "from keras.utils import plot_model\n",
    "plot_model(encoder, to_file='encoder.png', show_shapes=True)\n",
    "from IPython.display import Image\n",
    "Image(filename='encoder.png')"
   ]
  },
  {
   "cell_type": "markdown",
   "metadata": {},
   "source": [
    "### Pretrain auto-encoder"
   ]
  },
  {
   "cell_type": "code",
   "execution_count": 95,
   "metadata": {},
   "outputs": [
    {
     "name": "stdout",
     "output_type": "stream",
     "text": [
      "Epoch 1/200\n",
      "5000/5000 [==============================] - 2s 419us/step - loss: 0.1016\n",
      "Epoch 2/200\n",
      "5000/5000 [==============================] - 1s 181us/step - loss: 0.0718\n",
      "Epoch 3/200\n",
      "5000/5000 [==============================] - 1s 181us/step - loss: 0.0663\n",
      "Epoch 4/200\n",
      "5000/5000 [==============================] - 1s 184us/step - loss: 0.0640\n",
      "Epoch 5/200\n",
      "5000/5000 [==============================] - 1s 183us/step - loss: 0.0627\n",
      "Epoch 6/200\n",
      "5000/5000 [==============================] - 1s 173us/step - loss: 0.0619\n",
      "Epoch 7/200\n",
      "5000/5000 [==============================] - 1s 167us/step - loss: 0.0613\n",
      "Epoch 8/200\n",
      "5000/5000 [==============================] - 1s 171us/step - loss: 0.0609\n",
      "Epoch 9/200\n",
      "5000/5000 [==============================] - 1s 175us/step - loss: 0.0605\n",
      "Epoch 10/200\n",
      "5000/5000 [==============================] - 1s 168us/step - loss: 0.0596\n",
      "Epoch 11/200\n",
      "5000/5000 [==============================] - 1s 191us/step - loss: 0.0582\n",
      "Epoch 12/200\n",
      "5000/5000 [==============================] - 1s 208us/step - loss: 0.0572\n",
      "Epoch 13/200\n",
      "5000/5000 [==============================] - 1s 191us/step - loss: 0.0565\n",
      "Epoch 14/200\n",
      "5000/5000 [==============================] - 1s 202us/step - loss: 0.0556\n",
      "Epoch 15/200\n",
      "5000/5000 [==============================] - 1s 216us/step - loss: 0.0537\n",
      "Epoch 16/200\n",
      "5000/5000 [==============================] - 1s 176us/step - loss: 0.0514\n",
      "Epoch 17/200\n",
      "5000/5000 [==============================] - 1s 173us/step - loss: 0.0501\n",
      "Epoch 18/200\n",
      "5000/5000 [==============================] - 1s 180us/step - loss: 0.0490\n",
      "Epoch 19/200\n",
      "5000/5000 [==============================] - 1s 176us/step - loss: 0.0472\n",
      "Epoch 20/200\n",
      "5000/5000 [==============================] - 1s 176us/step - loss: 0.0456\n",
      "Epoch 21/200\n",
      "5000/5000 [==============================] - 1s 177us/step - loss: 0.0447\n",
      "Epoch 22/200\n",
      "5000/5000 [==============================] - 1s 176us/step - loss: 0.0438\n",
      "Epoch 23/200\n",
      "5000/5000 [==============================] - 1s 189us/step - loss: 0.0427\n",
      "Epoch 24/200\n",
      "5000/5000 [==============================] - 1s 173us/step - loss: 0.0415\n",
      "Epoch 25/200\n",
      "5000/5000 [==============================] - 1s 185us/step - loss: 0.0405\n",
      "Epoch 26/200\n",
      "5000/5000 [==============================] - 1s 181us/step - loss: 0.0392\n",
      "Epoch 27/200\n",
      "5000/5000 [==============================] - 1s 178us/step - loss: 0.0379\n",
      "Epoch 28/200\n",
      "5000/5000 [==============================] - 1s 185us/step - loss: 0.0367\n",
      "Epoch 29/200\n",
      "5000/5000 [==============================] - 1s 183us/step - loss: 0.0359\n",
      "Epoch 30/200\n",
      "5000/5000 [==============================] - 1s 180us/step - loss: 0.0352\n",
      "Epoch 31/200\n",
      "5000/5000 [==============================] - 1s 206us/step - loss: 0.0347\n",
      "Epoch 32/200\n",
      "5000/5000 [==============================] - 1s 233us/step - loss: 0.0342\n",
      "Epoch 33/200\n",
      "5000/5000 [==============================] - 1s 211us/step - loss: 0.0336\n",
      "Epoch 34/200\n",
      "5000/5000 [==============================] - 1s 205us/step - loss: 0.0331\n",
      "Epoch 35/200\n",
      "5000/5000 [==============================] - 1s 213us/step - loss: 0.0324\n",
      "Epoch 36/200\n",
      "5000/5000 [==============================] - 1s 224us/step - loss: 0.0318\n",
      "Epoch 37/200\n",
      "5000/5000 [==============================] - 1s 259us/step - loss: 0.0312\n",
      "Epoch 38/200\n",
      "5000/5000 [==============================] - 1s 222us/step - loss: 0.0307\n",
      "Epoch 39/200\n",
      "5000/5000 [==============================] - 1s 221us/step - loss: 0.0301\n",
      "Epoch 40/200\n",
      "5000/5000 [==============================] - 1s 204us/step - loss: 0.0297\n",
      "Epoch 41/200\n",
      "5000/5000 [==============================] - 1s 205us/step - loss: 0.0291\n",
      "Epoch 42/200\n",
      "5000/5000 [==============================] - 1s 218us/step - loss: 0.0286\n",
      "Epoch 43/200\n",
      "5000/5000 [==============================] - 1s 201us/step - loss: 0.0282\n",
      "Epoch 44/200\n",
      "5000/5000 [==============================] - 1s 197us/step - loss: 0.0278\n",
      "Epoch 45/200\n",
      "5000/5000 [==============================] - 1s 228us/step - loss: 0.0273\n",
      "Epoch 46/200\n",
      "5000/5000 [==============================] - 2s 346us/step - loss: 0.0270\n",
      "Epoch 47/200\n",
      "5000/5000 [==============================] - 2s 360us/step - loss: 0.0264\n",
      "Epoch 48/200\n",
      "5000/5000 [==============================] - 2s 314us/step - loss: 0.0260\n",
      "Epoch 49/200\n",
      "5000/5000 [==============================] - 2s 351us/step - loss: 0.0257\n",
      "Epoch 50/200\n",
      "5000/5000 [==============================] - 1s 260us/step - loss: 0.0254\n",
      "Epoch 51/200\n",
      "5000/5000 [==============================] - 1s 235us/step - loss: 0.0252\n",
      "Epoch 52/200\n",
      "5000/5000 [==============================] - 1s 231us/step - loss: 0.0249\n",
      "Epoch 53/200\n",
      "5000/5000 [==============================] - 1s 225us/step - loss: 0.0246\n",
      "Epoch 54/200\n",
      "5000/5000 [==============================] - 1s 236us/step - loss: 0.0243\n",
      "Epoch 55/200\n",
      "5000/5000 [==============================] - 1s 263us/step - loss: 0.0242\n",
      "Epoch 56/200\n",
      "5000/5000 [==============================] - 1s 233us/step - loss: 0.0240\n",
      "Epoch 57/200\n",
      "5000/5000 [==============================] - 1s 280us/step - loss: 0.0237\n",
      "Epoch 58/200\n",
      "5000/5000 [==============================] - 2s 310us/step - loss: 0.0237\n",
      "Epoch 59/200\n",
      "5000/5000 [==============================] - 1s 227us/step - loss: 0.0234\n",
      "Epoch 60/200\n",
      "5000/5000 [==============================] - 1s 250us/step - loss: 0.0232\n",
      "Epoch 61/200\n",
      "5000/5000 [==============================] - 1s 235us/step - loss: 0.0230\n",
      "Epoch 62/200\n",
      "5000/5000 [==============================] - 1s 236us/step - loss: 0.0229\n",
      "Epoch 63/200\n",
      "5000/5000 [==============================] - 2s 370us/step - loss: 0.0227\n",
      "Epoch 64/200\n",
      "5000/5000 [==============================] - 2s 463us/step - loss: 0.0225\n",
      "Epoch 65/200\n",
      "5000/5000 [==============================] - 2s 393us/step - loss: 0.0223\n",
      "Epoch 66/200\n",
      "5000/5000 [==============================] - 2s 355us/step - loss: 0.0222\n",
      "Epoch 67/200\n",
      "5000/5000 [==============================] - 1s 282us/step - loss: 0.0220\n",
      "Epoch 68/200\n",
      "5000/5000 [==============================] - 1s 297us/step - loss: 0.0219\n",
      "Epoch 69/200\n",
      "5000/5000 [==============================] - 2s 305us/step - loss: 0.0217\n",
      "Epoch 70/200\n",
      "5000/5000 [==============================] - 1s 278us/step - loss: 0.0216\n",
      "Epoch 71/200\n",
      "5000/5000 [==============================] - 1s 274us/step - loss: 0.0215\n",
      "Epoch 72/200\n",
      "5000/5000 [==============================] - 1s 265us/step - loss: 0.0213\n",
      "Epoch 73/200\n",
      "5000/5000 [==============================] - 1s 252us/step - loss: 0.0212\n",
      "Epoch 74/200\n",
      "5000/5000 [==============================] - 1s 238us/step - loss: 0.0212\n",
      "Epoch 75/200\n",
      "5000/5000 [==============================] - 1s 252us/step - loss: 0.0210\n",
      "Epoch 76/200\n",
      "5000/5000 [==============================] - 1s 255us/step - loss: 0.0209\n",
      "Epoch 77/200\n",
      "5000/5000 [==============================] - 1s 248us/step - loss: 0.0208\n",
      "Epoch 78/200\n",
      "5000/5000 [==============================] - 1s 276us/step - loss: 0.0206\n",
      "Epoch 79/200\n",
      "5000/5000 [==============================] - 1s 276us/step - loss: 0.0205\n",
      "Epoch 80/200\n",
      "5000/5000 [==============================] - 1s 297us/step - loss: 0.0204\n",
      "Epoch 81/200\n",
      "5000/5000 [==============================] - 1s 250us/step - loss: 0.0203\n",
      "Epoch 82/200\n",
      "5000/5000 [==============================] - 1s 282us/step - loss: 0.0202\n",
      "Epoch 83/200\n",
      "5000/5000 [==============================] - 1s 281us/step - loss: 0.0202\n",
      "Epoch 84/200\n",
      "5000/5000 [==============================] - 1s 236us/step - loss: 0.0200\n",
      "Epoch 85/200\n",
      "5000/5000 [==============================] - 1s 288us/step - loss: 0.0198\n",
      "Epoch 86/200\n",
      "5000/5000 [==============================] - 1s 243us/step - loss: 0.0198\n",
      "Epoch 87/200\n",
      "5000/5000 [==============================] - 1s 257us/step - loss: 0.0197\n",
      "Epoch 88/200\n",
      "5000/5000 [==============================] - 1s 260us/step - loss: 0.0196\n",
      "Epoch 89/200\n",
      "5000/5000 [==============================] - 1s 264us/step - loss: 0.0195\n",
      "Epoch 90/200\n",
      "5000/5000 [==============================] - 1s 246us/step - loss: 0.0193\n",
      "Epoch 91/200\n",
      "5000/5000 [==============================] - 1s 274us/step - loss: 0.0192\n",
      "Epoch 92/200\n",
      "5000/5000 [==============================] - 2s 325us/step - loss: 0.0192\n",
      "Epoch 93/200\n",
      "5000/5000 [==============================] - 1s 287us/step - loss: 0.0191\n",
      "Epoch 94/200\n",
      "5000/5000 [==============================] - 1s 251us/step - loss: 0.0190\n",
      "Epoch 95/200\n",
      "5000/5000 [==============================] - 1s 265us/step - loss: 0.0190\n",
      "Epoch 96/200\n",
      "5000/5000 [==============================] - 1s 262us/step - loss: 0.0189\n",
      "Epoch 97/200\n",
      "5000/5000 [==============================] - 1s 212us/step - loss: 0.0188\n",
      "Epoch 98/200\n",
      "5000/5000 [==============================] - 1s 207us/step - loss: 0.0187\n",
      "Epoch 99/200\n",
      "5000/5000 [==============================] - 1s 204us/step - loss: 0.0186\n",
      "Epoch 100/200\n",
      "5000/5000 [==============================] - 1s 228us/step - loss: 0.0185\n",
      "Epoch 101/200\n",
      "5000/5000 [==============================] - 1s 208us/step - loss: 0.0184\n",
      "Epoch 102/200\n",
      "5000/5000 [==============================] - 1s 253us/step - loss: 0.0184\n",
      "Epoch 103/200\n",
      "5000/5000 [==============================] - 1s 250us/step - loss: 0.0183\n",
      "Epoch 104/200\n",
      "5000/5000 [==============================] - 1s 208us/step - loss: 0.0182\n",
      "Epoch 105/200\n",
      "5000/5000 [==============================] - 1s 253us/step - loss: 0.0181\n",
      "Epoch 106/200\n",
      "5000/5000 [==============================] - 1s 237us/step - loss: 0.0180\n",
      "Epoch 107/200\n",
      "5000/5000 [==============================] - 1s 209us/step - loss: 0.0181\n",
      "Epoch 108/200\n",
      "5000/5000 [==============================] - 1s 211us/step - loss: 0.0179\n",
      "Epoch 109/200\n",
      "5000/5000 [==============================] - 1s 206us/step - loss: 0.0178\n",
      "Epoch 110/200\n",
      "5000/5000 [==============================] - 1s 213us/step - loss: 0.0177\n",
      "Epoch 111/200\n",
      "5000/5000 [==============================] - 1s 213us/step - loss: 0.0176\n",
      "Epoch 112/200\n",
      "5000/5000 [==============================] - 1s 216us/step - loss: 0.0175\n",
      "Epoch 113/200\n",
      "5000/5000 [==============================] - 1s 213us/step - loss: 0.0175\n",
      "Epoch 114/200\n",
      "5000/5000 [==============================] - 1s 218us/step - loss: 0.0174\n",
      "Epoch 115/200\n",
      "5000/5000 [==============================] - 1s 215us/step - loss: 0.0174\n",
      "Epoch 116/200\n",
      "5000/5000 [==============================] - 1s 226us/step - loss: 0.0173\n",
      "Epoch 117/200\n",
      "5000/5000 [==============================] - 1s 221us/step - loss: 0.0173\n",
      "Epoch 118/200\n",
      "5000/5000 [==============================] - 1s 244us/step - loss: 0.0172\n",
      "Epoch 119/200\n",
      "5000/5000 [==============================] - 1s 258us/step - loss: 0.0171\n",
      "Epoch 120/200\n",
      "5000/5000 [==============================] - 1s 251us/step - loss: 0.0171\n",
      "Epoch 121/200\n",
      "5000/5000 [==============================] - 1s 245us/step - loss: 0.0171\n",
      "Epoch 122/200\n",
      "5000/5000 [==============================] - 1s 257us/step - loss: 0.0170\n",
      "Epoch 123/200\n",
      "5000/5000 [==============================] - 1s 285us/step - loss: 0.0169\n",
      "Epoch 124/200\n",
      "5000/5000 [==============================] - 1s 226us/step - loss: 0.0167\n",
      "Epoch 125/200\n",
      "5000/5000 [==============================] - 1s 256us/step - loss: 0.0167\n",
      "Epoch 126/200\n",
      "5000/5000 [==============================] - 1s 223us/step - loss: 0.0167\n",
      "Epoch 127/200\n",
      "5000/5000 [==============================] - 1s 220us/step - loss: 0.0166\n",
      "Epoch 128/200\n",
      "5000/5000 [==============================] - 1s 241us/step - loss: 0.0166\n",
      "Epoch 129/200\n",
      "5000/5000 [==============================] - 1s 262us/step - loss: 0.0164\n",
      "Epoch 130/200\n",
      "5000/5000 [==============================] - 1s 254us/step - loss: 0.0165\n",
      "Epoch 131/200\n",
      "5000/5000 [==============================] - 1s 241us/step - loss: 0.0164\n",
      "Epoch 132/200\n",
      "5000/5000 [==============================] - 1s 255us/step - loss: 0.0164\n",
      "Epoch 133/200\n",
      "5000/5000 [==============================] - 1s 257us/step - loss: 0.0162\n",
      "Epoch 134/200\n",
      "5000/5000 [==============================] - 1s 249us/step - loss: 0.0162\n",
      "Epoch 135/200\n",
      "5000/5000 [==============================] - 1s 271us/step - loss: 0.0162\n",
      "Epoch 136/200\n",
      "5000/5000 [==============================] - 1s 230us/step - loss: 0.0161\n",
      "Epoch 137/200\n",
      "5000/5000 [==============================] - 1s 230us/step - loss: 0.0160\n",
      "Epoch 138/200\n",
      "5000/5000 [==============================] - 1s 237us/step - loss: 0.0159\n",
      "Epoch 139/200\n",
      "5000/5000 [==============================] - 1s 269us/step - loss: 0.0159\n",
      "Epoch 140/200\n",
      "5000/5000 [==============================] - 1s 249us/step - loss: 0.0158\n",
      "Epoch 141/200\n",
      "5000/5000 [==============================] - 1s 246us/step - loss: 0.0158\n",
      "Epoch 142/200\n",
      "5000/5000 [==============================] - 1s 237us/step - loss: 0.0158\n",
      "Epoch 143/200\n",
      "5000/5000 [==============================] - 1s 253us/step - loss: 0.0157\n",
      "Epoch 144/200\n",
      "5000/5000 [==============================] - 1s 231us/step - loss: 0.0157\n",
      "Epoch 145/200\n",
      "5000/5000 [==============================] - 1s 261us/step - loss: 0.0156\n",
      "Epoch 146/200\n",
      "5000/5000 [==============================] - 1s 277us/step - loss: 0.0156\n",
      "Epoch 147/200\n",
      "5000/5000 [==============================] - 1s 284us/step - loss: 0.0155 0s - loss: 0\n",
      "Epoch 148/200\n",
      "5000/5000 [==============================] - 1s 285us/step - loss: 0.0155\n",
      "Epoch 149/200\n",
      "5000/5000 [==============================] - 1s 237us/step - loss: 0.0155\n",
      "Epoch 150/200\n",
      "5000/5000 [==============================] - 1s 238us/step - loss: 0.0154\n",
      "Epoch 151/200\n",
      "5000/5000 [==============================] - 1s 245us/step - loss: 0.0153\n",
      "Epoch 152/200\n",
      "5000/5000 [==============================] - 1s 253us/step - loss: 0.0153\n",
      "Epoch 153/200\n",
      "5000/5000 [==============================] - 1s 250us/step - loss: 0.0152\n",
      "Epoch 154/200\n",
      "5000/5000 [==============================] - 1s 268us/step - loss: 0.0152\n",
      "Epoch 155/200\n",
      "5000/5000 [==============================] - 1s 232us/step - loss: 0.0151\n",
      "Epoch 156/200\n",
      "5000/5000 [==============================] - 1s 252us/step - loss: 0.0151\n",
      "Epoch 157/200\n",
      "5000/5000 [==============================] - 1s 249us/step - loss: 0.0150\n",
      "Epoch 158/200\n",
      "5000/5000 [==============================] - 1s 252us/step - loss: 0.0150\n",
      "Epoch 159/200\n",
      "5000/5000 [==============================] - 1s 221us/step - loss: 0.0149\n",
      "Epoch 160/200\n",
      "5000/5000 [==============================] - 1s 227us/step - loss: 0.0149\n",
      "Epoch 161/200\n",
      "5000/5000 [==============================] - 1s 216us/step - loss: 0.0149\n",
      "Epoch 162/200\n",
      "5000/5000 [==============================] - 1s 218us/step - loss: 0.0148\n",
      "Epoch 163/200\n",
      "5000/5000 [==============================] - 1s 218us/step - loss: 0.0147\n",
      "Epoch 164/200\n",
      "5000/5000 [==============================] - 1s 210us/step - loss: 0.0148\n",
      "Epoch 165/200\n",
      "5000/5000 [==============================] - 1s 216us/step - loss: 0.0147\n",
      "Epoch 166/200\n",
      "5000/5000 [==============================] - 1s 227us/step - loss: 0.0147\n",
      "Epoch 167/200\n",
      "5000/5000 [==============================] - 1s 231us/step - loss: 0.0147\n",
      "Epoch 168/200\n",
      "5000/5000 [==============================] - 1s 237us/step - loss: 0.0145\n",
      "Epoch 169/200\n",
      "5000/5000 [==============================] - 1s 223us/step - loss: 0.0145\n",
      "Epoch 170/200\n",
      "5000/5000 [==============================] - 1s 217us/step - loss: 0.0145\n",
      "Epoch 171/200\n",
      "5000/5000 [==============================] - 1s 217us/step - loss: 0.0144\n",
      "Epoch 172/200\n",
      "5000/5000 [==============================] - 1s 257us/step - loss: 0.0143\n",
      "Epoch 173/200\n",
      "5000/5000 [==============================] - 1s 242us/step - loss: 0.0144\n",
      "Epoch 174/200\n",
      "5000/5000 [==============================] - 1s 262us/step - loss: 0.0143\n",
      "Epoch 175/200\n",
      "5000/5000 [==============================] - 1s 229us/step - loss: 0.0143\n",
      "Epoch 176/200\n",
      "5000/5000 [==============================] - 1s 257us/step - loss: 0.0143\n",
      "Epoch 177/200\n",
      "5000/5000 [==============================] - 1s 281us/step - loss: 0.0142\n",
      "Epoch 178/200\n",
      "5000/5000 [==============================] - 1s 255us/step - loss: 0.0142\n",
      "Epoch 179/200\n",
      "5000/5000 [==============================] - 1s 242us/step - loss: 0.0141\n",
      "Epoch 180/200\n",
      "5000/5000 [==============================] - 1s 222us/step - loss: 0.0141\n",
      "Epoch 181/200\n",
      "5000/5000 [==============================] - 1s 238us/step - loss: 0.0140\n",
      "Epoch 182/200\n",
      "5000/5000 [==============================] - 1s 225us/step - loss: 0.0140\n",
      "Epoch 183/200\n",
      "5000/5000 [==============================] - 1s 226us/step - loss: 0.0139\n",
      "Epoch 184/200\n",
      "5000/5000 [==============================] - 1s 279us/step - loss: 0.0139\n",
      "Epoch 185/200\n",
      "5000/5000 [==============================] - 1s 259us/step - loss: 0.0139\n",
      "Epoch 186/200\n",
      "5000/5000 [==============================] - 1s 281us/step - loss: 0.0141\n",
      "Epoch 187/200\n",
      "5000/5000 [==============================] - 1s 239us/step - loss: 0.0138\n",
      "Epoch 188/200\n"
     ]
    },
    {
     "name": "stdout",
     "output_type": "stream",
     "text": [
      "5000/5000 [==============================] - 1s 235us/step - loss: 0.0137\n",
      "Epoch 189/200\n",
      "5000/5000 [==============================] - 1s 206us/step - loss: 0.0137\n",
      "Epoch 190/200\n",
      "5000/5000 [==============================] - 1s 228us/step - loss: 0.0136\n",
      "Epoch 191/200\n",
      "5000/5000 [==============================] - 1s 191us/step - loss: 0.0136\n",
      "Epoch 192/200\n",
      "5000/5000 [==============================] - 1s 187us/step - loss: 0.0136\n",
      "Epoch 193/200\n",
      "5000/5000 [==============================] - 1s 215us/step - loss: 0.0136\n",
      "Epoch 194/200\n",
      "5000/5000 [==============================] - 1s 214us/step - loss: 0.0136\n",
      "Epoch 195/200\n",
      "5000/5000 [==============================] - 1s 206us/step - loss: 0.0134\n",
      "Epoch 196/200\n",
      "5000/5000 [==============================] - 1s 245us/step - loss: 0.0135\n",
      "Epoch 197/200\n",
      "5000/5000 [==============================] - 1s 245us/step - loss: 0.0135\n",
      "Epoch 198/200\n",
      "5000/5000 [==============================] - 1s 195us/step - loss: 0.0134\n",
      "Epoch 199/200\n",
      "5000/5000 [==============================] - 1s 221us/step - loss: 0.0133\n",
      "Epoch 200/200\n",
      "5000/5000 [==============================] - 1s 223us/step - loss: 0.0133\n"
     ]
    },
    {
     "data": {
      "text/plain": [
       "<keras.callbacks.History at 0x29995d30108>"
      ]
     },
     "execution_count": 95,
     "metadata": {},
     "output_type": "execute_result"
    }
   ],
   "source": [
    "autoencoder.compile(optimizer = pretrain_optimizer, loss = 'mse')\n",
    "autoencoder.fit(x, x, batch_size = batch_size, epochs = pretrain_epochs)"
   ]
  },
  {
   "cell_type": "markdown",
   "metadata": {},
   "source": [
    "### Save Weights"
   ]
  },
  {
   "cell_type": "code",
   "execution_count": 96,
   "metadata": {},
   "outputs": [],
   "source": [
    "autoencoder.save_weights(save_dir + '/ae_weight.h5')"
   ]
  },
  {
   "cell_type": "markdown",
   "metadata": {},
   "source": [
    "### Load Weights"
   ]
  },
  {
   "cell_type": "code",
   "execution_count": 97,
   "metadata": {},
   "outputs": [],
   "source": [
    "autoencoder.load_weights(save_dir + '/ae_weight.h5')"
   ]
  },
  {
   "cell_type": "markdown",
   "metadata": {},
   "source": [
    "------------"
   ]
  },
  {
   "cell_type": "markdown",
   "metadata": {},
   "source": [
    "# BUILD CLUSTERING MODEL"
   ]
  },
  {
   "cell_type": "markdown",
   "metadata": {},
   "source": [
    "### 1 - Initialize Cluster Centers Using K-Means"
   ]
  },
  {
   "cell_type": "markdown",
   "metadata": {},
   "source": [
    "- Clustering layer converts input sample to soft label\n",
    "- Vector that represents the probability of the sample beloning to each cluster\n",
    "- Probability calculated with student's t-distribution"
   ]
  },
  {
   "cell_type": "markdown",
   "metadata": {},
   "source": [
    "    # Example\n",
    "    ```\n",
    "        model.add(ClusteringLayer(n_clusters=10))\n",
    "    ```\n",
    "    # Arguments\n",
    "        n_clusters: number of clusters.\n",
    "        weights: list of Numpy array with shape `(n_clusters, n_features)` witch represents the initial cluster centers.\n",
    "        alpha: degrees of freedom parameter in Student's t-distribution. Default to 1.0.\n",
    "    # Input shape\n",
    "        2D tensor with shape: `(n_samples, n_features)`.\n",
    "    # Output shape\n",
    "        2D tensor with shape: `(n_samples, n_clusters)`."
   ]
  },
  {
   "cell_type": "markdown",
   "metadata": {},
   "source": [
    "##### Custom Clustering Layer"
   ]
  },
  {
   "cell_type": "code",
   "execution_count": 98,
   "metadata": {},
   "outputs": [],
   "source": [
    "class ClusteringLayer(Layer):\n",
    "    def __init__(self, n_clusters, weights = None, alpha = 1.0, **kwargs):\n",
    "        if 'input_shape' not in kwargs and 'input_dim' in kwargs:\n",
    "            kwards['input_shape'] = (kwards.pop('input_dim'),)\n",
    "        super(ClusteringLayer, self).__init__(**kwargs)\n",
    "        self.n_clusters = n_clusters\n",
    "        self.alpha = alpha\n",
    "        self.initial_weights = weights\n",
    "        self.input_spec = InputSpec(ndim = 2)\n",
    "        \n",
    "    def build(self, input_shape):\n",
    "        assert len(input_shape) == 2\n",
    "        input_dim = input_shape[1]\n",
    "        self.input_spec = InputSpec(dtype = K.floatx(), shape = (None, input_dim))\n",
    "        self.clusters = self.add_weight((self.n_clusters, input_dim), initializer = 'glorot_uniform', name = 'clusters')\n",
    "        if self.initial_weights is not None:\n",
    "            self.set_weights(self.initial_weights)\n",
    "            del self.initial_weights\n",
    "        self.built = True\n",
    "        \n",
    "    def call(self, inputs, **kwargs):\n",
    "        q = 1.0 / (1.0 + K.sum(K.square(K.expand_dims(inputs, axis = 1) - self.clusters), axis = 2) / self.alpha)\n",
    "        q **= (self.alpha + 1.0) / 2.0\n",
    "        q = K.transpose(K.transpose(q) / K.sum(q, axis = 1))\n",
    "        return q\n",
    "    \n",
    "    def compute_output_shape(self, input_shape):\n",
    "        assert input_shape and len(input_shape) == 2\n",
    "        return input_shape[0], self.n_clusters\n",
    "    \n",
    "    def get_config(self):\n",
    "        config = {'n_clusters' : self.n_clusters}\n",
    "        base_config = super(ClusteringLayer, self).get_config()\n",
    "        return dict(list(base_cofig.items()) + list(config.items()))"
   ]
  },
  {
   "cell_type": "markdown",
   "metadata": {},
   "source": [
    "##### Stack Clustering Layers"
   ]
  },
  {
   "cell_type": "code",
   "execution_count": 99,
   "metadata": {},
   "outputs": [],
   "source": [
    "clustering_layer = ClusteringLayer(n_clusters, name = 'clustering')(encoder.output)\n",
    "model = Model(inputs = encoder.input, outputs = clustering_layer)\n",
    "model.compile(optimizer=SGD(0.01, 0.9), loss='kld')\n",
    "\n",
    "\n",
    "kmeans = KMeans(n_clusters = n_clusters, n_init = 20)\n",
    "y_pred = kmeans.fit_predict(encoder.predict(x))\n",
    "y_pred_last = np.copy(y_pred)\n",
    "model.get_layer(name = 'clustering').set_weights([kmeans.cluster_centers_])"
   ]
  },
  {
   "cell_type": "markdown",
   "metadata": {},
   "source": [
    "### 2 - Deep Clustering"
   ]
  },
  {
   "cell_type": "code",
   "execution_count": 100,
   "metadata": {},
   "outputs": [],
   "source": [
    "def target_distribution(q):\n",
    "    weight = q ** 2 / q.sum(0)\n",
    "    return (weight.T / weight.sum(1)).T"
   ]
  },
  {
   "cell_type": "code",
   "execution_count": 101,
   "metadata": {},
   "outputs": [],
   "source": [
    "loss = 0\n",
    "index = 0\n",
    "maxiter = 8000\n",
    "update_interval = 140\n",
    "index_array = np.arange(x.shape[0])\n",
    "tol = 0.001"
   ]
  },
  {
   "cell_type": "markdown",
   "metadata": {},
   "source": [
    "### 3 - Start Training"
   ]
  },
  {
   "cell_type": "code",
   "execution_count": null,
   "metadata": {},
   "outputs": [
    {
     "name": "stderr",
     "output_type": "stream",
     "text": [
      "C:\\Users\\dandoye\\Anaconda3\\envs\\deepLearning\\lib\\site-packages\\sklearn\\utils\\linear_assignment_.py:127: DeprecationWarning: The linear_assignment function is deprecated in 0.21 and will be removed from 0.23. Use scipy.optimize.linear_sum_assignment instead.\n",
      "  DeprecationWarning)\n",
      "C:\\Users\\dandoye\\Anaconda3\\envs\\deepLearning\\lib\\site-packages\\sklearn\\metrics\\cluster\\supervised.py:859: FutureWarning: The behavior of NMI will change in version 0.22. To match the behavior of 'v_measure_score', NMI will use average_method='arithmetic' by default.\n",
      "  FutureWarning)\n"
     ]
    },
    {
     "name": "stdout",
     "output_type": "stream",
     "text": [
      "Iter 0: acc = 0.60580, nmi = 0.53008, ari = 0.40944 ; loss =  0\n"
     ]
    },
    {
     "name": "stderr",
     "output_type": "stream",
     "text": [
      "C:\\Users\\dandoye\\Anaconda3\\envs\\deepLearning\\lib\\site-packages\\sklearn\\utils\\linear_assignment_.py:127: DeprecationWarning: The linear_assignment function is deprecated in 0.21 and will be removed from 0.23. Use scipy.optimize.linear_sum_assignment instead.\n",
      "  DeprecationWarning)\n",
      "C:\\Users\\dandoye\\Anaconda3\\envs\\deepLearning\\lib\\site-packages\\sklearn\\metrics\\cluster\\supervised.py:859: FutureWarning: The behavior of NMI will change in version 0.22. To match the behavior of 'v_measure_score', NMI will use average_method='arithmetic' by default.\n",
      "  FutureWarning)\n"
     ]
    },
    {
     "name": "stdout",
     "output_type": "stream",
     "text": [
      "Iter 140: acc = 0.62080, nmi = 0.54101, ari = 0.42878 ; loss =  0.04204\n"
     ]
    },
    {
     "name": "stderr",
     "output_type": "stream",
     "text": [
      "C:\\Users\\dandoye\\Anaconda3\\envs\\deepLearning\\lib\\site-packages\\sklearn\\utils\\linear_assignment_.py:127: DeprecationWarning: The linear_assignment function is deprecated in 0.21 and will be removed from 0.23. Use scipy.optimize.linear_sum_assignment instead.\n",
      "  DeprecationWarning)\n",
      "C:\\Users\\dandoye\\Anaconda3\\envs\\deepLearning\\lib\\site-packages\\sklearn\\metrics\\cluster\\supervised.py:859: FutureWarning: The behavior of NMI will change in version 0.22. To match the behavior of 'v_measure_score', NMI will use average_method='arithmetic' by default.\n",
      "  FutureWarning)\n"
     ]
    },
    {
     "name": "stdout",
     "output_type": "stream",
     "text": [
      "Iter 280: acc = 0.63220, nmi = 0.56094, ari = 0.44843 ; loss =  0.11838\n"
     ]
    },
    {
     "name": "stderr",
     "output_type": "stream",
     "text": [
      "C:\\Users\\dandoye\\Anaconda3\\envs\\deepLearning\\lib\\site-packages\\sklearn\\utils\\linear_assignment_.py:127: DeprecationWarning: The linear_assignment function is deprecated in 0.21 and will be removed from 0.23. Use scipy.optimize.linear_sum_assignment instead.\n",
      "  DeprecationWarning)\n",
      "C:\\Users\\dandoye\\Anaconda3\\envs\\deepLearning\\lib\\site-packages\\sklearn\\metrics\\cluster\\supervised.py:859: FutureWarning: The behavior of NMI will change in version 0.22. To match the behavior of 'v_measure_score', NMI will use average_method='arithmetic' by default.\n",
      "  FutureWarning)\n"
     ]
    },
    {
     "name": "stdout",
     "output_type": "stream",
     "text": [
      "Iter 420: acc = 0.64000, nmi = 0.57250, ari = 0.45904 ; loss =  0.1593\n"
     ]
    },
    {
     "name": "stderr",
     "output_type": "stream",
     "text": [
      "C:\\Users\\dandoye\\Anaconda3\\envs\\deepLearning\\lib\\site-packages\\sklearn\\utils\\linear_assignment_.py:127: DeprecationWarning: The linear_assignment function is deprecated in 0.21 and will be removed from 0.23. Use scipy.optimize.linear_sum_assignment instead.\n",
      "  DeprecationWarning)\n",
      "C:\\Users\\dandoye\\Anaconda3\\envs\\deepLearning\\lib\\site-packages\\sklearn\\metrics\\cluster\\supervised.py:859: FutureWarning: The behavior of NMI will change in version 0.22. To match the behavior of 'v_measure_score', NMI will use average_method='arithmetic' by default.\n",
      "  FutureWarning)\n"
     ]
    },
    {
     "name": "stdout",
     "output_type": "stream",
     "text": [
      "Iter 560: acc = 0.64660, nmi = 0.58273, ari = 0.46898 ; loss =  0.16733\n"
     ]
    },
    {
     "name": "stderr",
     "output_type": "stream",
     "text": [
      "C:\\Users\\dandoye\\Anaconda3\\envs\\deepLearning\\lib\\site-packages\\sklearn\\utils\\linear_assignment_.py:127: DeprecationWarning: The linear_assignment function is deprecated in 0.21 and will be removed from 0.23. Use scipy.optimize.linear_sum_assignment instead.\n",
      "  DeprecationWarning)\n",
      "C:\\Users\\dandoye\\Anaconda3\\envs\\deepLearning\\lib\\site-packages\\sklearn\\metrics\\cluster\\supervised.py:859: FutureWarning: The behavior of NMI will change in version 0.22. To match the behavior of 'v_measure_score', NMI will use average_method='arithmetic' by default.\n",
      "  FutureWarning)\n"
     ]
    },
    {
     "name": "stdout",
     "output_type": "stream",
     "text": [
      "Iter 700: acc = 0.65200, nmi = 0.59147, ari = 0.47701 ; loss =  0.16461\n"
     ]
    },
    {
     "name": "stderr",
     "output_type": "stream",
     "text": [
      "C:\\Users\\dandoye\\Anaconda3\\envs\\deepLearning\\lib\\site-packages\\sklearn\\utils\\linear_assignment_.py:127: DeprecationWarning: The linear_assignment function is deprecated in 0.21 and will be removed from 0.23. Use scipy.optimize.linear_sum_assignment instead.\n",
      "  DeprecationWarning)\n",
      "C:\\Users\\dandoye\\Anaconda3\\envs\\deepLearning\\lib\\site-packages\\sklearn\\metrics\\cluster\\supervised.py:859: FutureWarning: The behavior of NMI will change in version 0.22. To match the behavior of 'v_measure_score', NMI will use average_method='arithmetic' by default.\n",
      "  FutureWarning)\n"
     ]
    },
    {
     "name": "stdout",
     "output_type": "stream",
     "text": [
      "Iter 840: acc = 0.65500, nmi = 0.59642, ari = 0.48131 ; loss =  0.1586\n"
     ]
    },
    {
     "name": "stderr",
     "output_type": "stream",
     "text": [
      "C:\\Users\\dandoye\\Anaconda3\\envs\\deepLearning\\lib\\site-packages\\sklearn\\utils\\linear_assignment_.py:127: DeprecationWarning: The linear_assignment function is deprecated in 0.21 and will be removed from 0.23. Use scipy.optimize.linear_sum_assignment instead.\n",
      "  DeprecationWarning)\n",
      "C:\\Users\\dandoye\\Anaconda3\\envs\\deepLearning\\lib\\site-packages\\sklearn\\metrics\\cluster\\supervised.py:859: FutureWarning: The behavior of NMI will change in version 0.22. To match the behavior of 'v_measure_score', NMI will use average_method='arithmetic' by default.\n",
      "  FutureWarning)\n"
     ]
    },
    {
     "name": "stdout",
     "output_type": "stream",
     "text": [
      "Iter 980: acc = 0.65760, nmi = 0.59927, ari = 0.48432 ; loss =  0.15234\n"
     ]
    },
    {
     "name": "stderr",
     "output_type": "stream",
     "text": [
      "C:\\Users\\dandoye\\Anaconda3\\envs\\deepLearning\\lib\\site-packages\\sklearn\\utils\\linear_assignment_.py:127: DeprecationWarning: The linear_assignment function is deprecated in 0.21 and will be removed from 0.23. Use scipy.optimize.linear_sum_assignment instead.\n",
      "  DeprecationWarning)\n",
      "C:\\Users\\dandoye\\Anaconda3\\envs\\deepLearning\\lib\\site-packages\\sklearn\\metrics\\cluster\\supervised.py:859: FutureWarning: The behavior of NMI will change in version 0.22. To match the behavior of 'v_measure_score', NMI will use average_method='arithmetic' by default.\n",
      "  FutureWarning)\n"
     ]
    },
    {
     "name": "stdout",
     "output_type": "stream",
     "text": [
      "Iter 1120: acc = 0.65720, nmi = 0.59965, ari = 0.48388 ; loss =  0.14677\n"
     ]
    },
    {
     "name": "stderr",
     "output_type": "stream",
     "text": [
      "C:\\Users\\dandoye\\Anaconda3\\envs\\deepLearning\\lib\\site-packages\\sklearn\\utils\\linear_assignment_.py:127: DeprecationWarning: The linear_assignment function is deprecated in 0.21 and will be removed from 0.23. Use scipy.optimize.linear_sum_assignment instead.\n",
      "  DeprecationWarning)\n",
      "C:\\Users\\dandoye\\Anaconda3\\envs\\deepLearning\\lib\\site-packages\\sklearn\\metrics\\cluster\\supervised.py:859: FutureWarning: The behavior of NMI will change in version 0.22. To match the behavior of 'v_measure_score', NMI will use average_method='arithmetic' by default.\n",
      "  FutureWarning)\n"
     ]
    },
    {
     "name": "stdout",
     "output_type": "stream",
     "text": [
      "Iter 1260: acc = 0.65800, nmi = 0.59937, ari = 0.48399 ; loss =  0.14176\n"
     ]
    },
    {
     "name": "stderr",
     "output_type": "stream",
     "text": [
      "C:\\Users\\dandoye\\Anaconda3\\envs\\deepLearning\\lib\\site-packages\\sklearn\\utils\\linear_assignment_.py:127: DeprecationWarning: The linear_assignment function is deprecated in 0.21 and will be removed from 0.23. Use scipy.optimize.linear_sum_assignment instead.\n",
      "  DeprecationWarning)\n",
      "C:\\Users\\dandoye\\Anaconda3\\envs\\deepLearning\\lib\\site-packages\\sklearn\\metrics\\cluster\\supervised.py:859: FutureWarning: The behavior of NMI will change in version 0.22. To match the behavior of 'v_measure_score', NMI will use average_method='arithmetic' by default.\n",
      "  FutureWarning)\n"
     ]
    },
    {
     "name": "stdout",
     "output_type": "stream",
     "text": [
      "Iter 1400: acc = 0.65740, nmi = 0.59952, ari = 0.48362 ; loss =  0.13726\n"
     ]
    },
    {
     "name": "stderr",
     "output_type": "stream",
     "text": [
      "C:\\Users\\dandoye\\Anaconda3\\envs\\deepLearning\\lib\\site-packages\\sklearn\\utils\\linear_assignment_.py:127: DeprecationWarning: The linear_assignment function is deprecated in 0.21 and will be removed from 0.23. Use scipy.optimize.linear_sum_assignment instead.\n",
      "  DeprecationWarning)\n",
      "C:\\Users\\dandoye\\Anaconda3\\envs\\deepLearning\\lib\\site-packages\\sklearn\\metrics\\cluster\\supervised.py:859: FutureWarning: The behavior of NMI will change in version 0.22. To match the behavior of 'v_measure_score', NMI will use average_method='arithmetic' by default.\n",
      "  FutureWarning)\n"
     ]
    },
    {
     "name": "stdout",
     "output_type": "stream",
     "text": [
      "Iter 1540: acc = 0.65760, nmi = 0.59974, ari = 0.48380 ; loss =  0.13292\n"
     ]
    },
    {
     "name": "stderr",
     "output_type": "stream",
     "text": [
      "C:\\Users\\dandoye\\Anaconda3\\envs\\deepLearning\\lib\\site-packages\\sklearn\\utils\\linear_assignment_.py:127: DeprecationWarning: The linear_assignment function is deprecated in 0.21 and will be removed from 0.23. Use scipy.optimize.linear_sum_assignment instead.\n",
      "  DeprecationWarning)\n",
      "C:\\Users\\dandoye\\Anaconda3\\envs\\deepLearning\\lib\\site-packages\\sklearn\\metrics\\cluster\\supervised.py:859: FutureWarning: The behavior of NMI will change in version 0.22. To match the behavior of 'v_measure_score', NMI will use average_method='arithmetic' by default.\n",
      "  FutureWarning)\n"
     ]
    },
    {
     "name": "stdout",
     "output_type": "stream",
     "text": [
      "Iter 1680: acc = 0.65740, nmi = 0.59962, ari = 0.48361 ; loss =  0.12903\n",
      "delta_label  0.0004 < tol  0.001\n",
      "Reached tolerance threshold. Stopping training.\n"
     ]
    },
    {
     "name": "stderr",
     "output_type": "stream",
     "text": [
      "C:\\Users\\dandoye\\Anaconda3\\envs\\deepLearning\\lib\\site-packages\\sklearn\\utils\\linear_assignment_.py:127: DeprecationWarning: The linear_assignment function is deprecated in 0.21 and will be removed from 0.23. Use scipy.optimize.linear_sum_assignment instead.\n",
      "  DeprecationWarning)\n",
      "C:\\Users\\dandoye\\Anaconda3\\envs\\deepLearning\\lib\\site-packages\\sklearn\\metrics\\cluster\\supervised.py:859: FutureWarning: The behavior of NMI will change in version 0.22. To match the behavior of 'v_measure_score', NMI will use average_method='arithmetic' by default.\n",
      "  FutureWarning)\n"
     ]
    },
    {
     "name": "stdout",
     "output_type": "stream",
     "text": [
      "Iter 1820: acc = 0.65740, nmi = 0.59941, ari = 0.48358 ; loss =  0.12535\n"
     ]
    },
    {
     "name": "stderr",
     "output_type": "stream",
     "text": [
      "C:\\Users\\dandoye\\Anaconda3\\envs\\deepLearning\\lib\\site-packages\\sklearn\\utils\\linear_assignment_.py:127: DeprecationWarning: The linear_assignment function is deprecated in 0.21 and will be removed from 0.23. Use scipy.optimize.linear_sum_assignment instead.\n",
      "  DeprecationWarning)\n",
      "C:\\Users\\dandoye\\Anaconda3\\envs\\deepLearning\\lib\\site-packages\\sklearn\\metrics\\cluster\\supervised.py:859: FutureWarning: The behavior of NMI will change in version 0.22. To match the behavior of 'v_measure_score', NMI will use average_method='arithmetic' by default.\n",
      "  FutureWarning)\n"
     ]
    },
    {
     "name": "stdout",
     "output_type": "stream",
     "text": [
      "Iter 1960: acc = 0.65720, nmi = 0.59917, ari = 0.48341 ; loss =  0.12193\n"
     ]
    },
    {
     "name": "stderr",
     "output_type": "stream",
     "text": [
      "C:\\Users\\dandoye\\Anaconda3\\envs\\deepLearning\\lib\\site-packages\\sklearn\\utils\\linear_assignment_.py:127: DeprecationWarning: The linear_assignment function is deprecated in 0.21 and will be removed from 0.23. Use scipy.optimize.linear_sum_assignment instead.\n",
      "  DeprecationWarning)\n",
      "C:\\Users\\dandoye\\Anaconda3\\envs\\deepLearning\\lib\\site-packages\\sklearn\\metrics\\cluster\\supervised.py:859: FutureWarning: The behavior of NMI will change in version 0.22. To match the behavior of 'v_measure_score', NMI will use average_method='arithmetic' by default.\n",
      "  FutureWarning)\n"
     ]
    },
    {
     "name": "stdout",
     "output_type": "stream",
     "text": [
      "Iter 2100: acc = 0.65740, nmi = 0.59927, ari = 0.48361 ; loss =  0.11916\n",
      "delta_label  0.0008 < tol  0.001\n",
      "Reached tolerance threshold. Stopping training.\n"
     ]
    },
    {
     "name": "stderr",
     "output_type": "stream",
     "text": [
      "C:\\Users\\dandoye\\Anaconda3\\envs\\deepLearning\\lib\\site-packages\\sklearn\\utils\\linear_assignment_.py:127: DeprecationWarning: The linear_assignment function is deprecated in 0.21 and will be removed from 0.23. Use scipy.optimize.linear_sum_assignment instead.\n",
      "  DeprecationWarning)\n",
      "C:\\Users\\dandoye\\Anaconda3\\envs\\deepLearning\\lib\\site-packages\\sklearn\\metrics\\cluster\\supervised.py:859: FutureWarning: The behavior of NMI will change in version 0.22. To match the behavior of 'v_measure_score', NMI will use average_method='arithmetic' by default.\n",
      "  FutureWarning)\n"
     ]
    },
    {
     "name": "stdout",
     "output_type": "stream",
     "text": [
      "Iter 2240: acc = 0.65740, nmi = 0.59936, ari = 0.48348 ; loss =  0.11653\n",
      "delta_label  0.0004 < tol  0.001\n",
      "Reached tolerance threshold. Stopping training.\n"
     ]
    },
    {
     "name": "stderr",
     "output_type": "stream",
     "text": [
      "C:\\Users\\dandoye\\Anaconda3\\envs\\deepLearning\\lib\\site-packages\\sklearn\\utils\\linear_assignment_.py:127: DeprecationWarning: The linear_assignment function is deprecated in 0.21 and will be removed from 0.23. Use scipy.optimize.linear_sum_assignment instead.\n",
      "  DeprecationWarning)\n",
      "C:\\Users\\dandoye\\Anaconda3\\envs\\deepLearning\\lib\\site-packages\\sklearn\\metrics\\cluster\\supervised.py:859: FutureWarning: The behavior of NMI will change in version 0.22. To match the behavior of 'v_measure_score', NMI will use average_method='arithmetic' by default.\n",
      "  FutureWarning)\n"
     ]
    },
    {
     "name": "stdout",
     "output_type": "stream",
     "text": [
      "Iter 2380: acc = 0.65740, nmi = 0.59925, ari = 0.48350 ; loss =  0.11403\n",
      "delta_label  0.0002 < tol  0.001\n",
      "Reached tolerance threshold. Stopping training.\n"
     ]
    },
    {
     "name": "stderr",
     "output_type": "stream",
     "text": [
      "C:\\Users\\dandoye\\Anaconda3\\envs\\deepLearning\\lib\\site-packages\\sklearn\\utils\\linear_assignment_.py:127: DeprecationWarning: The linear_assignment function is deprecated in 0.21 and will be removed from 0.23. Use scipy.optimize.linear_sum_assignment instead.\n",
      "  DeprecationWarning)\n",
      "C:\\Users\\dandoye\\Anaconda3\\envs\\deepLearning\\lib\\site-packages\\sklearn\\metrics\\cluster\\supervised.py:859: FutureWarning: The behavior of NMI will change in version 0.22. To match the behavior of 'v_measure_score', NMI will use average_method='arithmetic' by default.\n",
      "  FutureWarning)\n"
     ]
    },
    {
     "name": "stdout",
     "output_type": "stream",
     "text": [
      "Iter 2520: acc = 0.65760, nmi = 0.59949, ari = 0.48380 ; loss =  0.11172\n",
      "delta_label  0.0004 < tol  0.001\n",
      "Reached tolerance threshold. Stopping training.\n"
     ]
    },
    {
     "name": "stderr",
     "output_type": "stream",
     "text": [
      "C:\\Users\\dandoye\\Anaconda3\\envs\\deepLearning\\lib\\site-packages\\sklearn\\utils\\linear_assignment_.py:127: DeprecationWarning: The linear_assignment function is deprecated in 0.21 and will be removed from 0.23. Use scipy.optimize.linear_sum_assignment instead.\n",
      "  DeprecationWarning)\n",
      "C:\\Users\\dandoye\\Anaconda3\\envs\\deepLearning\\lib\\site-packages\\sklearn\\metrics\\cluster\\supervised.py:859: FutureWarning: The behavior of NMI will change in version 0.22. To match the behavior of 'v_measure_score', NMI will use average_method='arithmetic' by default.\n",
      "  FutureWarning)\n"
     ]
    },
    {
     "name": "stdout",
     "output_type": "stream",
     "text": [
      "Iter 2660: acc = 0.65760, nmi = 0.59949, ari = 0.48380 ; loss =  0.10961\n",
      "delta_label  0.0 < tol  0.001\n",
      "Reached tolerance threshold. Stopping training.\n"
     ]
    },
    {
     "name": "stderr",
     "output_type": "stream",
     "text": [
      "C:\\Users\\dandoye\\Anaconda3\\envs\\deepLearning\\lib\\site-packages\\sklearn\\utils\\linear_assignment_.py:127: DeprecationWarning: The linear_assignment function is deprecated in 0.21 and will be removed from 0.23. Use scipy.optimize.linear_sum_assignment instead.\n",
      "  DeprecationWarning)\n",
      "C:\\Users\\dandoye\\Anaconda3\\envs\\deepLearning\\lib\\site-packages\\sklearn\\metrics\\cluster\\supervised.py:859: FutureWarning: The behavior of NMI will change in version 0.22. To match the behavior of 'v_measure_score', NMI will use average_method='arithmetic' by default.\n",
      "  FutureWarning)\n"
     ]
    },
    {
     "name": "stdout",
     "output_type": "stream",
     "text": [
      "Iter 2800: acc = 0.65760, nmi = 0.59949, ari = 0.48380 ; loss =  0.10765\n",
      "delta_label  0.0 < tol  0.001\n",
      "Reached tolerance threshold. Stopping training.\n"
     ]
    },
    {
     "name": "stderr",
     "output_type": "stream",
     "text": [
      "C:\\Users\\dandoye\\Anaconda3\\envs\\deepLearning\\lib\\site-packages\\sklearn\\utils\\linear_assignment_.py:127: DeprecationWarning: The linear_assignment function is deprecated in 0.21 and will be removed from 0.23. Use scipy.optimize.linear_sum_assignment instead.\n",
      "  DeprecationWarning)\n",
      "C:\\Users\\dandoye\\Anaconda3\\envs\\deepLearning\\lib\\site-packages\\sklearn\\metrics\\cluster\\supervised.py:859: FutureWarning: The behavior of NMI will change in version 0.22. To match the behavior of 'v_measure_score', NMI will use average_method='arithmetic' by default.\n",
      "  FutureWarning)\n"
     ]
    },
    {
     "name": "stdout",
     "output_type": "stream",
     "text": [
      "Iter 2940: acc = 0.65760, nmi = 0.59965, ari = 0.48393 ; loss =  0.10583\n",
      "delta_label  0.0004 < tol  0.001\n",
      "Reached tolerance threshold. Stopping training.\n"
     ]
    },
    {
     "name": "stderr",
     "output_type": "stream",
     "text": [
      "C:\\Users\\dandoye\\Anaconda3\\envs\\deepLearning\\lib\\site-packages\\sklearn\\utils\\linear_assignment_.py:127: DeprecationWarning: The linear_assignment function is deprecated in 0.21 and will be removed from 0.23. Use scipy.optimize.linear_sum_assignment instead.\n",
      "  DeprecationWarning)\n",
      "C:\\Users\\dandoye\\Anaconda3\\envs\\deepLearning\\lib\\site-packages\\sklearn\\metrics\\cluster\\supervised.py:859: FutureWarning: The behavior of NMI will change in version 0.22. To match the behavior of 'v_measure_score', NMI will use average_method='arithmetic' by default.\n",
      "  FutureWarning)\n"
     ]
    },
    {
     "name": "stdout",
     "output_type": "stream",
     "text": [
      "Iter 3080: acc = 0.65760, nmi = 0.59965, ari = 0.48393 ; loss =  0.10415\n",
      "delta_label  0.0 < tol  0.001\n",
      "Reached tolerance threshold. Stopping training.\n"
     ]
    },
    {
     "name": "stderr",
     "output_type": "stream",
     "text": [
      "C:\\Users\\dandoye\\Anaconda3\\envs\\deepLearning\\lib\\site-packages\\sklearn\\utils\\linear_assignment_.py:127: DeprecationWarning: The linear_assignment function is deprecated in 0.21 and will be removed from 0.23. Use scipy.optimize.linear_sum_assignment instead.\n",
      "  DeprecationWarning)\n",
      "C:\\Users\\dandoye\\Anaconda3\\envs\\deepLearning\\lib\\site-packages\\sklearn\\metrics\\cluster\\supervised.py:859: FutureWarning: The behavior of NMI will change in version 0.22. To match the behavior of 'v_measure_score', NMI will use average_method='arithmetic' by default.\n",
      "  FutureWarning)\n"
     ]
    },
    {
     "name": "stdout",
     "output_type": "stream",
     "text": [
      "Iter 3220: acc = 0.65760, nmi = 0.59965, ari = 0.48393 ; loss =  0.10264\n",
      "delta_label  0.0 < tol  0.001\n",
      "Reached tolerance threshold. Stopping training.\n"
     ]
    },
    {
     "name": "stderr",
     "output_type": "stream",
     "text": [
      "C:\\Users\\dandoye\\Anaconda3\\envs\\deepLearning\\lib\\site-packages\\sklearn\\utils\\linear_assignment_.py:127: DeprecationWarning: The linear_assignment function is deprecated in 0.21 and will be removed from 0.23. Use scipy.optimize.linear_sum_assignment instead.\n",
      "  DeprecationWarning)\n",
      "C:\\Users\\dandoye\\Anaconda3\\envs\\deepLearning\\lib\\site-packages\\sklearn\\metrics\\cluster\\supervised.py:859: FutureWarning: The behavior of NMI will change in version 0.22. To match the behavior of 'v_measure_score', NMI will use average_method='arithmetic' by default.\n",
      "  FutureWarning)\n"
     ]
    },
    {
     "name": "stdout",
     "output_type": "stream",
     "text": [
      "Iter 3360: acc = 0.65760, nmi = 0.59965, ari = 0.48393 ; loss =  0.10131\n",
      "delta_label  0.0 < tol  0.001\n",
      "Reached tolerance threshold. Stopping training.\n"
     ]
    },
    {
     "name": "stderr",
     "output_type": "stream",
     "text": [
      "C:\\Users\\dandoye\\Anaconda3\\envs\\deepLearning\\lib\\site-packages\\sklearn\\utils\\linear_assignment_.py:127: DeprecationWarning: The linear_assignment function is deprecated in 0.21 and will be removed from 0.23. Use scipy.optimize.linear_sum_assignment instead.\n",
      "  DeprecationWarning)\n",
      "C:\\Users\\dandoye\\Anaconda3\\envs\\deepLearning\\lib\\site-packages\\sklearn\\metrics\\cluster\\supervised.py:859: FutureWarning: The behavior of NMI will change in version 0.22. To match the behavior of 'v_measure_score', NMI will use average_method='arithmetic' by default.\n",
      "  FutureWarning)\n"
     ]
    },
    {
     "name": "stdout",
     "output_type": "stream",
     "text": [
      "Iter 3500: acc = 0.65760, nmi = 0.59965, ari = 0.48393 ; loss =  0.10025\n",
      "delta_label  0.0 < tol  0.001\n",
      "Reached tolerance threshold. Stopping training.\n"
     ]
    },
    {
     "name": "stderr",
     "output_type": "stream",
     "text": [
      "C:\\Users\\dandoye\\Anaconda3\\envs\\deepLearning\\lib\\site-packages\\sklearn\\utils\\linear_assignment_.py:127: DeprecationWarning: The linear_assignment function is deprecated in 0.21 and will be removed from 0.23. Use scipy.optimize.linear_sum_assignment instead.\n",
      "  DeprecationWarning)\n",
      "C:\\Users\\dandoye\\Anaconda3\\envs\\deepLearning\\lib\\site-packages\\sklearn\\metrics\\cluster\\supervised.py:859: FutureWarning: The behavior of NMI will change in version 0.22. To match the behavior of 'v_measure_score', NMI will use average_method='arithmetic' by default.\n",
      "  FutureWarning)\n"
     ]
    },
    {
     "name": "stdout",
     "output_type": "stream",
     "text": [
      "Iter 3640: acc = 0.65760, nmi = 0.59965, ari = 0.48393 ; loss =  0.09939\n",
      "delta_label  0.0 < tol  0.001\n",
      "Reached tolerance threshold. Stopping training.\n"
     ]
    },
    {
     "name": "stderr",
     "output_type": "stream",
     "text": [
      "C:\\Users\\dandoye\\Anaconda3\\envs\\deepLearning\\lib\\site-packages\\sklearn\\utils\\linear_assignment_.py:127: DeprecationWarning: The linear_assignment function is deprecated in 0.21 and will be removed from 0.23. Use scipy.optimize.linear_sum_assignment instead.\n",
      "  DeprecationWarning)\n",
      "C:\\Users\\dandoye\\Anaconda3\\envs\\deepLearning\\lib\\site-packages\\sklearn\\metrics\\cluster\\supervised.py:859: FutureWarning: The behavior of NMI will change in version 0.22. To match the behavior of 'v_measure_score', NMI will use average_method='arithmetic' by default.\n",
      "  FutureWarning)\n"
     ]
    },
    {
     "name": "stdout",
     "output_type": "stream",
     "text": [
      "Iter 3780: acc = 0.65760, nmi = 0.59965, ari = 0.48393 ; loss =  0.09778\n",
      "delta_label  0.0 < tol  0.001\n",
      "Reached tolerance threshold. Stopping training.\n"
     ]
    },
    {
     "name": "stderr",
     "output_type": "stream",
     "text": [
      "C:\\Users\\dandoye\\Anaconda3\\envs\\deepLearning\\lib\\site-packages\\sklearn\\utils\\linear_assignment_.py:127: DeprecationWarning: The linear_assignment function is deprecated in 0.21 and will be removed from 0.23. Use scipy.optimize.linear_sum_assignment instead.\n",
      "  DeprecationWarning)\n",
      "C:\\Users\\dandoye\\Anaconda3\\envs\\deepLearning\\lib\\site-packages\\sklearn\\metrics\\cluster\\supervised.py:859: FutureWarning: The behavior of NMI will change in version 0.22. To match the behavior of 'v_measure_score', NMI will use average_method='arithmetic' by default.\n",
      "  FutureWarning)\n"
     ]
    },
    {
     "name": "stdout",
     "output_type": "stream",
     "text": [
      "Iter 3920: acc = 0.65760, nmi = 0.59965, ari = 0.48393 ; loss =  0.09731\n",
      "delta_label  0.0 < tol  0.001\n",
      "Reached tolerance threshold. Stopping training.\n"
     ]
    },
    {
     "name": "stderr",
     "output_type": "stream",
     "text": [
      "C:\\Users\\dandoye\\Anaconda3\\envs\\deepLearning\\lib\\site-packages\\sklearn\\utils\\linear_assignment_.py:127: DeprecationWarning: The linear_assignment function is deprecated in 0.21 and will be removed from 0.23. Use scipy.optimize.linear_sum_assignment instead.\n",
      "  DeprecationWarning)\n",
      "C:\\Users\\dandoye\\Anaconda3\\envs\\deepLearning\\lib\\site-packages\\sklearn\\metrics\\cluster\\supervised.py:859: FutureWarning: The behavior of NMI will change in version 0.22. To match the behavior of 'v_measure_score', NMI will use average_method='arithmetic' by default.\n",
      "  FutureWarning)\n"
     ]
    },
    {
     "name": "stdout",
     "output_type": "stream",
     "text": [
      "Iter 4060: acc = 0.65780, nmi = 0.59991, ari = 0.48414 ; loss =  0.09931\n",
      "delta_label  0.0002 < tol  0.001\n",
      "Reached tolerance threshold. Stopping training.\n"
     ]
    },
    {
     "name": "stderr",
     "output_type": "stream",
     "text": [
      "C:\\Users\\dandoye\\Anaconda3\\envs\\deepLearning\\lib\\site-packages\\sklearn\\utils\\linear_assignment_.py:127: DeprecationWarning: The linear_assignment function is deprecated in 0.21 and will be removed from 0.23. Use scipy.optimize.linear_sum_assignment instead.\n",
      "  DeprecationWarning)\n",
      "C:\\Users\\dandoye\\Anaconda3\\envs\\deepLearning\\lib\\site-packages\\sklearn\\metrics\\cluster\\supervised.py:859: FutureWarning: The behavior of NMI will change in version 0.22. To match the behavior of 'v_measure_score', NMI will use average_method='arithmetic' by default.\n",
      "  FutureWarning)\n"
     ]
    },
    {
     "name": "stdout",
     "output_type": "stream",
     "text": [
      "Iter 4200: acc = 0.65760, nmi = 0.59965, ari = 0.48393 ; loss =  0.09222\n",
      "delta_label  0.0002 < tol  0.001\n",
      "Reached tolerance threshold. Stopping training.\n"
     ]
    },
    {
     "name": "stderr",
     "output_type": "stream",
     "text": [
      "C:\\Users\\dandoye\\Anaconda3\\envs\\deepLearning\\lib\\site-packages\\sklearn\\utils\\linear_assignment_.py:127: DeprecationWarning: The linear_assignment function is deprecated in 0.21 and will be removed from 0.23. Use scipy.optimize.linear_sum_assignment instead.\n",
      "  DeprecationWarning)\n",
      "C:\\Users\\dandoye\\Anaconda3\\envs\\deepLearning\\lib\\site-packages\\sklearn\\metrics\\cluster\\supervised.py:859: FutureWarning: The behavior of NMI will change in version 0.22. To match the behavior of 'v_measure_score', NMI will use average_method='arithmetic' by default.\n",
      "  FutureWarning)\n"
     ]
    },
    {
     "name": "stdout",
     "output_type": "stream",
     "text": [
      "Iter 4340: acc = 0.65740, nmi = 0.59939, ari = 0.48373 ; loss =  0.09238\n",
      "delta_label  0.0002 < tol  0.001\n",
      "Reached tolerance threshold. Stopping training.\n"
     ]
    },
    {
     "name": "stderr",
     "output_type": "stream",
     "text": [
      "C:\\Users\\dandoye\\Anaconda3\\envs\\deepLearning\\lib\\site-packages\\sklearn\\utils\\linear_assignment_.py:127: DeprecationWarning: The linear_assignment function is deprecated in 0.21 and will be removed from 0.23. Use scipy.optimize.linear_sum_assignment instead.\n",
      "  DeprecationWarning)\n",
      "C:\\Users\\dandoye\\Anaconda3\\envs\\deepLearning\\lib\\site-packages\\sklearn\\metrics\\cluster\\supervised.py:859: FutureWarning: The behavior of NMI will change in version 0.22. To match the behavior of 'v_measure_score', NMI will use average_method='arithmetic' by default.\n",
      "  FutureWarning)\n"
     ]
    },
    {
     "name": "stdout",
     "output_type": "stream",
     "text": [
      "Iter 4480: acc = 0.65740, nmi = 0.59947, ari = 0.48379 ; loss =  0.09129\n",
      "delta_label  0.0002 < tol  0.001\n",
      "Reached tolerance threshold. Stopping training.\n"
     ]
    },
    {
     "name": "stderr",
     "output_type": "stream",
     "text": [
      "C:\\Users\\dandoye\\Anaconda3\\envs\\deepLearning\\lib\\site-packages\\sklearn\\utils\\linear_assignment_.py:127: DeprecationWarning: The linear_assignment function is deprecated in 0.21 and will be removed from 0.23. Use scipy.optimize.linear_sum_assignment instead.\n",
      "  DeprecationWarning)\n",
      "C:\\Users\\dandoye\\Anaconda3\\envs\\deepLearning\\lib\\site-packages\\sklearn\\metrics\\cluster\\supervised.py:859: FutureWarning: The behavior of NMI will change in version 0.22. To match the behavior of 'v_measure_score', NMI will use average_method='arithmetic' by default.\n",
      "  FutureWarning)\n"
     ]
    },
    {
     "name": "stdout",
     "output_type": "stream",
     "text": [
      "Iter 4620: acc = 0.65740, nmi = 0.59947, ari = 0.48379 ; loss =  0.09038\n",
      "delta_label  0.0 < tol  0.001\n",
      "Reached tolerance threshold. Stopping training.\n"
     ]
    },
    {
     "name": "stderr",
     "output_type": "stream",
     "text": [
      "C:\\Users\\dandoye\\Anaconda3\\envs\\deepLearning\\lib\\site-packages\\sklearn\\utils\\linear_assignment_.py:127: DeprecationWarning: The linear_assignment function is deprecated in 0.21 and will be removed from 0.23. Use scipy.optimize.linear_sum_assignment instead.\n",
      "  DeprecationWarning)\n",
      "C:\\Users\\dandoye\\Anaconda3\\envs\\deepLearning\\lib\\site-packages\\sklearn\\metrics\\cluster\\supervised.py:859: FutureWarning: The behavior of NMI will change in version 0.22. To match the behavior of 'v_measure_score', NMI will use average_method='arithmetic' by default.\n",
      "  FutureWarning)\n"
     ]
    },
    {
     "name": "stdout",
     "output_type": "stream",
     "text": [
      "Iter 4760: acc = 0.65740, nmi = 0.59947, ari = 0.48379 ; loss =  0.08952\n",
      "delta_label  0.0 < tol  0.001\n",
      "Reached tolerance threshold. Stopping training.\n"
     ]
    },
    {
     "name": "stderr",
     "output_type": "stream",
     "text": [
      "C:\\Users\\dandoye\\Anaconda3\\envs\\deepLearning\\lib\\site-packages\\sklearn\\utils\\linear_assignment_.py:127: DeprecationWarning: The linear_assignment function is deprecated in 0.21 and will be removed from 0.23. Use scipy.optimize.linear_sum_assignment instead.\n",
      "  DeprecationWarning)\n",
      "C:\\Users\\dandoye\\Anaconda3\\envs\\deepLearning\\lib\\site-packages\\sklearn\\metrics\\cluster\\supervised.py:859: FutureWarning: The behavior of NMI will change in version 0.22. To match the behavior of 'v_measure_score', NMI will use average_method='arithmetic' by default.\n",
      "  FutureWarning)\n"
     ]
    },
    {
     "name": "stdout",
     "output_type": "stream",
     "text": [
      "Iter 4900: acc = 0.65740, nmi = 0.59947, ari = 0.48379 ; loss =  0.08877\n",
      "delta_label  0.0 < tol  0.001\n",
      "Reached tolerance threshold. Stopping training.\n"
     ]
    },
    {
     "name": "stderr",
     "output_type": "stream",
     "text": [
      "C:\\Users\\dandoye\\Anaconda3\\envs\\deepLearning\\lib\\site-packages\\sklearn\\utils\\linear_assignment_.py:127: DeprecationWarning: The linear_assignment function is deprecated in 0.21 and will be removed from 0.23. Use scipy.optimize.linear_sum_assignment instead.\n",
      "  DeprecationWarning)\n",
      "C:\\Users\\dandoye\\Anaconda3\\envs\\deepLearning\\lib\\site-packages\\sklearn\\metrics\\cluster\\supervised.py:859: FutureWarning: The behavior of NMI will change in version 0.22. To match the behavior of 'v_measure_score', NMI will use average_method='arithmetic' by default.\n",
      "  FutureWarning)\n"
     ]
    },
    {
     "name": "stdout",
     "output_type": "stream",
     "text": [
      "Iter 5040: acc = 0.65740, nmi = 0.59947, ari = 0.48379 ; loss =  0.088\n",
      "delta_label  0.0 < tol  0.001\n",
      "Reached tolerance threshold. Stopping training.\n"
     ]
    },
    {
     "name": "stderr",
     "output_type": "stream",
     "text": [
      "C:\\Users\\dandoye\\Anaconda3\\envs\\deepLearning\\lib\\site-packages\\sklearn\\utils\\linear_assignment_.py:127: DeprecationWarning: The linear_assignment function is deprecated in 0.21 and will be removed from 0.23. Use scipy.optimize.linear_sum_assignment instead.\n",
      "  DeprecationWarning)\n",
      "C:\\Users\\dandoye\\Anaconda3\\envs\\deepLearning\\lib\\site-packages\\sklearn\\metrics\\cluster\\supervised.py:859: FutureWarning: The behavior of NMI will change in version 0.22. To match the behavior of 'v_measure_score', NMI will use average_method='arithmetic' by default.\n",
      "  FutureWarning)\n"
     ]
    },
    {
     "name": "stdout",
     "output_type": "stream",
     "text": [
      "Iter 5180: acc = 0.65740, nmi = 0.59947, ari = 0.48379 ; loss =  0.08737\n",
      "delta_label  0.0 < tol  0.001\n",
      "Reached tolerance threshold. Stopping training.\n"
     ]
    },
    {
     "name": "stderr",
     "output_type": "stream",
     "text": [
      "C:\\Users\\dandoye\\Anaconda3\\envs\\deepLearning\\lib\\site-packages\\sklearn\\utils\\linear_assignment_.py:127: DeprecationWarning: The linear_assignment function is deprecated in 0.21 and will be removed from 0.23. Use scipy.optimize.linear_sum_assignment instead.\n",
      "  DeprecationWarning)\n",
      "C:\\Users\\dandoye\\Anaconda3\\envs\\deepLearning\\lib\\site-packages\\sklearn\\metrics\\cluster\\supervised.py:859: FutureWarning: The behavior of NMI will change in version 0.22. To match the behavior of 'v_measure_score', NMI will use average_method='arithmetic' by default.\n",
      "  FutureWarning)\n"
     ]
    },
    {
     "name": "stdout",
     "output_type": "stream",
     "text": [
      "Iter 5320: acc = 0.65740, nmi = 0.59947, ari = 0.48379 ; loss =  0.08685\n",
      "delta_label  0.0 < tol  0.001\n",
      "Reached tolerance threshold. Stopping training.\n"
     ]
    },
    {
     "name": "stderr",
     "output_type": "stream",
     "text": [
      "C:\\Users\\dandoye\\Anaconda3\\envs\\deepLearning\\lib\\site-packages\\sklearn\\utils\\linear_assignment_.py:127: DeprecationWarning: The linear_assignment function is deprecated in 0.21 and will be removed from 0.23. Use scipy.optimize.linear_sum_assignment instead.\n",
      "  DeprecationWarning)\n",
      "C:\\Users\\dandoye\\Anaconda3\\envs\\deepLearning\\lib\\site-packages\\sklearn\\metrics\\cluster\\supervised.py:859: FutureWarning: The behavior of NMI will change in version 0.22. To match the behavior of 'v_measure_score', NMI will use average_method='arithmetic' by default.\n",
      "  FutureWarning)\n"
     ]
    },
    {
     "name": "stdout",
     "output_type": "stream",
     "text": [
      "Iter 5460: acc = 0.65740, nmi = 0.59947, ari = 0.48379 ; loss =  0.08642\n",
      "delta_label  0.0 < tol  0.001\n",
      "Reached tolerance threshold. Stopping training.\n"
     ]
    },
    {
     "name": "stderr",
     "output_type": "stream",
     "text": [
      "C:\\Users\\dandoye\\Anaconda3\\envs\\deepLearning\\lib\\site-packages\\sklearn\\utils\\linear_assignment_.py:127: DeprecationWarning: The linear_assignment function is deprecated in 0.21 and will be removed from 0.23. Use scipy.optimize.linear_sum_assignment instead.\n",
      "  DeprecationWarning)\n",
      "C:\\Users\\dandoye\\Anaconda3\\envs\\deepLearning\\lib\\site-packages\\sklearn\\metrics\\cluster\\supervised.py:859: FutureWarning: The behavior of NMI will change in version 0.22. To match the behavior of 'v_measure_score', NMI will use average_method='arithmetic' by default.\n",
      "  FutureWarning)\n"
     ]
    },
    {
     "name": "stdout",
     "output_type": "stream",
     "text": [
      "Iter 5600: acc = 0.65740, nmi = 0.59947, ari = 0.48379 ; loss =  0.08603\n",
      "delta_label  0.0 < tol  0.001\n",
      "Reached tolerance threshold. Stopping training.\n"
     ]
    },
    {
     "name": "stderr",
     "output_type": "stream",
     "text": [
      "C:\\Users\\dandoye\\Anaconda3\\envs\\deepLearning\\lib\\site-packages\\sklearn\\utils\\linear_assignment_.py:127: DeprecationWarning: The linear_assignment function is deprecated in 0.21 and will be removed from 0.23. Use scipy.optimize.linear_sum_assignment instead.\n",
      "  DeprecationWarning)\n",
      "C:\\Users\\dandoye\\Anaconda3\\envs\\deepLearning\\lib\\site-packages\\sklearn\\metrics\\cluster\\supervised.py:859: FutureWarning: The behavior of NMI will change in version 0.22. To match the behavior of 'v_measure_score', NMI will use average_method='arithmetic' by default.\n",
      "  FutureWarning)\n"
     ]
    },
    {
     "name": "stdout",
     "output_type": "stream",
     "text": [
      "Iter 5740: acc = 0.65740, nmi = 0.59950, ari = 0.48382 ; loss =  0.08558\n",
      "delta_label  0.0002 < tol  0.001\n",
      "Reached tolerance threshold. Stopping training.\n"
     ]
    },
    {
     "name": "stderr",
     "output_type": "stream",
     "text": [
      "C:\\Users\\dandoye\\Anaconda3\\envs\\deepLearning\\lib\\site-packages\\sklearn\\utils\\linear_assignment_.py:127: DeprecationWarning: The linear_assignment function is deprecated in 0.21 and will be removed from 0.23. Use scipy.optimize.linear_sum_assignment instead.\n",
      "  DeprecationWarning)\n",
      "C:\\Users\\dandoye\\Anaconda3\\envs\\deepLearning\\lib\\site-packages\\sklearn\\metrics\\cluster\\supervised.py:859: FutureWarning: The behavior of NMI will change in version 0.22. To match the behavior of 'v_measure_score', NMI will use average_method='arithmetic' by default.\n",
      "  FutureWarning)\n"
     ]
    },
    {
     "name": "stdout",
     "output_type": "stream",
     "text": [
      "Iter 5880: acc = 0.65740, nmi = 0.59950, ari = 0.48382 ; loss =  0.0851\n",
      "delta_label  0.0 < tol  0.001\n",
      "Reached tolerance threshold. Stopping training.\n"
     ]
    },
    {
     "name": "stderr",
     "output_type": "stream",
     "text": [
      "C:\\Users\\dandoye\\Anaconda3\\envs\\deepLearning\\lib\\site-packages\\sklearn\\utils\\linear_assignment_.py:127: DeprecationWarning: The linear_assignment function is deprecated in 0.21 and will be removed from 0.23. Use scipy.optimize.linear_sum_assignment instead.\n",
      "  DeprecationWarning)\n",
      "C:\\Users\\dandoye\\Anaconda3\\envs\\deepLearning\\lib\\site-packages\\sklearn\\metrics\\cluster\\supervised.py:859: FutureWarning: The behavior of NMI will change in version 0.22. To match the behavior of 'v_measure_score', NMI will use average_method='arithmetic' by default.\n",
      "  FutureWarning)\n"
     ]
    },
    {
     "name": "stdout",
     "output_type": "stream",
     "text": [
      "Iter 6020: acc = 0.65740, nmi = 0.59950, ari = 0.48382 ; loss =  0.08424\n",
      "delta_label  0.0 < tol  0.001\n",
      "Reached tolerance threshold. Stopping training.\n"
     ]
    },
    {
     "name": "stderr",
     "output_type": "stream",
     "text": [
      "C:\\Users\\dandoye\\Anaconda3\\envs\\deepLearning\\lib\\site-packages\\sklearn\\utils\\linear_assignment_.py:127: DeprecationWarning: The linear_assignment function is deprecated in 0.21 and will be removed from 0.23. Use scipy.optimize.linear_sum_assignment instead.\n",
      "  DeprecationWarning)\n",
      "C:\\Users\\dandoye\\Anaconda3\\envs\\deepLearning\\lib\\site-packages\\sklearn\\metrics\\cluster\\supervised.py:859: FutureWarning: The behavior of NMI will change in version 0.22. To match the behavior of 'v_measure_score', NMI will use average_method='arithmetic' by default.\n",
      "  FutureWarning)\n"
     ]
    },
    {
     "name": "stdout",
     "output_type": "stream",
     "text": [
      "Iter 6160: acc = 0.65740, nmi = 0.59950, ari = 0.48382 ; loss =  0.08294\n",
      "delta_label  0.0 < tol  0.001\n",
      "Reached tolerance threshold. Stopping training.\n"
     ]
    },
    {
     "name": "stderr",
     "output_type": "stream",
     "text": [
      "C:\\Users\\dandoye\\Anaconda3\\envs\\deepLearning\\lib\\site-packages\\sklearn\\utils\\linear_assignment_.py:127: DeprecationWarning: The linear_assignment function is deprecated in 0.21 and will be removed from 0.23. Use scipy.optimize.linear_sum_assignment instead.\n",
      "  DeprecationWarning)\n",
      "C:\\Users\\dandoye\\Anaconda3\\envs\\deepLearning\\lib\\site-packages\\sklearn\\metrics\\cluster\\supervised.py:859: FutureWarning: The behavior of NMI will change in version 0.22. To match the behavior of 'v_measure_score', NMI will use average_method='arithmetic' by default.\n",
      "  FutureWarning)\n"
     ]
    },
    {
     "name": "stdout",
     "output_type": "stream",
     "text": [
      "Iter 6300: acc = 0.65740, nmi = 0.59950, ari = 0.48382 ; loss =  0.08129\n",
      "delta_label  0.0 < tol  0.001\n",
      "Reached tolerance threshold. Stopping training.\n"
     ]
    },
    {
     "name": "stderr",
     "output_type": "stream",
     "text": [
      "C:\\Users\\dandoye\\Anaconda3\\envs\\deepLearning\\lib\\site-packages\\sklearn\\utils\\linear_assignment_.py:127: DeprecationWarning: The linear_assignment function is deprecated in 0.21 and will be removed from 0.23. Use scipy.optimize.linear_sum_assignment instead.\n",
      "  DeprecationWarning)\n",
      "C:\\Users\\dandoye\\Anaconda3\\envs\\deepLearning\\lib\\site-packages\\sklearn\\metrics\\cluster\\supervised.py:859: FutureWarning: The behavior of NMI will change in version 0.22. To match the behavior of 'v_measure_score', NMI will use average_method='arithmetic' by default.\n",
      "  FutureWarning)\n"
     ]
    },
    {
     "name": "stdout",
     "output_type": "stream",
     "text": [
      "Iter 6440: acc = 0.65740, nmi = 0.59950, ari = 0.48382 ; loss =  0.08014\n",
      "delta_label  0.0 < tol  0.001\n",
      "Reached tolerance threshold. Stopping training.\n"
     ]
    }
   ],
   "source": [
    "#from sklearn.metrics import accuracy_score as acc2\n",
    "from sklearn.metrics import normalized_mutual_info_score as nmi2\n",
    "from sklearn.metrics import adjusted_rand_score as ari2\n",
    "\n",
    "for ite in range(int(maxiter)):\n",
    "    if ite % update_interval == 0:\n",
    "        q = model.predict(x, verbose = 0)\n",
    "        p = target_distribution(q)\n",
    "        \n",
    "        y_pred = q.argmax(1)\n",
    "        if y is not None:\n",
    "            acc = np.round(acc2(y, y_pred), 5)\n",
    "            nmi = np.round(nmi2(y, y_pred), 5)\n",
    "            ari = np.round(ari2(y, y_pred), 5)\n",
    "            loss = np.round(loss, 5)\n",
    "            print('Iter %d: acc = %.5f, nmi = %.5f, ari = %.5f' % (ite, acc, nmi, ari), '; loss = ', loss)\n",
    "            \n",
    "        delta_label = np.sum(y_pred != y_pred_last).astype(np.float32) / y_pred.shape[0]\n",
    "        y_pred_last = np.copy(y_pred)\n",
    "        if ite > 0 and delta_label < tol:\n",
    "            print('delta_label ', delta_label, '< tol ', tol)\n",
    "            print('Reached tolerance threshold. Stopping training.')\n",
    "    idx = index_array[index * batch_size: min((index + 1) * batch_size, x.shape[0])]\n",
    "    loss = model.train_on_batch(x = x[idx], y = p[idx])\n",
    "    index = index + 1 if (index + 1) * batch_size <= x.shape[0] else 0\n",
    "\n",
    "model.save_weights(save_dir + '/DEC_model_final.h5')         "
   ]
  },
  {
   "cell_type": "markdown",
   "metadata": {},
   "source": [
    "### 4 - Load Clustering Model Weights"
   ]
  },
  {
   "cell_type": "code",
   "execution_count": null,
   "metadata": {},
   "outputs": [],
   "source": [
    "model.load_weights(save_dir + '/DEC_model_final.h5')"
   ]
  },
  {
   "cell_type": "markdown",
   "metadata": {},
   "source": [
    "### 5 - Final Evaluation"
   ]
  },
  {
   "cell_type": "code",
   "execution_count": null,
   "metadata": {},
   "outputs": [],
   "source": [
    "q = model.predict(x, verbose = 0)\n",
    "p = target_distribution(q)\n",
    "\n",
    "y_pred = q.argmax(1)\n",
    "if y is not None:\n",
    "    acc = np.round(acc2(y, y_pred), 5)\n",
    "    nmi = np.round(nmi2(y, y_pred), 5)\n",
    "    ari = np.round(ari2(y, y_pred), 5)\n",
    "    loss = np.round(loss, 5)\n",
    "    print('Acc = %.5f, nmi = %.5f, ari = %.5f' % (acc, nmi, ari), ' ; loss=', loss)"
   ]
  },
  {
   "cell_type": "markdown",
   "metadata": {},
   "source": [
    "### 6 - Accuracy Metric"
   ]
  },
  {
   "cell_type": "code",
   "execution_count": null,
   "metadata": {},
   "outputs": [],
   "source": [
    "import seaborn as sns\n",
    "import sklearn.metrics\n",
    "import matplotlib.pyplot as plt\n",
    "sns.set(font_scale=3)\n",
    "confusion_matrix = sklearn.metrics.confusion_matrix(y, y_pred)\n",
    "\n",
    "plt.figure(figsize=(16, 14))\n",
    "sns.heatmap(confusion_matrix, annot=True, fmt=\"d\", annot_kws={\"size\": 20});\n",
    "plt.title(\"Confusion matrix\", fontsize=30)\n",
    "plt.ylabel('True label', fontsize=25)\n",
    "plt.xlabel('Clustering label', fontsize=25)\n",
    "plt.show()"
   ]
  },
  {
   "cell_type": "markdown",
   "metadata": {},
   "source": [
    "### Alternatives"
   ]
  },
  {
   "cell_type": "code",
   "execution_count": 36,
   "metadata": {},
   "outputs": [
    {
     "name": "stdout",
     "output_type": "stream",
     "text": [
      "WARNING:tensorflow:From C:\\Users\\dandoye\\Anaconda3\\envs\\deepLearning\\lib\\site-packages\\keras\\backend\\tensorflow_backend.py:74: The name tf.get_default_graph is deprecated. Please use tf.compat.v1.get_default_graph instead.\n",
      "\n",
      "WARNING:tensorflow:From C:\\Users\\dandoye\\Anaconda3\\envs\\deepLearning\\lib\\site-packages\\keras\\backend\\tensorflow_backend.py:517: The name tf.placeholder is deprecated. Please use tf.compat.v1.placeholder instead.\n",
      "\n",
      "WARNING:tensorflow:From C:\\Users\\dandoye\\Anaconda3\\envs\\deepLearning\\lib\\site-packages\\keras\\backend\\tensorflow_backend.py:4138: The name tf.random_uniform is deprecated. Please use tf.random.uniform instead.\n",
      "\n"
     ]
    }
   ],
   "source": [
    "# Input placeholder\n",
    "input_img = Input(shape=(784,))\n",
    "\n",
    "# \"encoded\" is the encoded representation of the input\n",
    "encoded = Dense(2000, activation='relu')(input_img)\n",
    "encoded = Dense(500, activation='relu')(encoded)\n",
    "encoded = Dense(500, activation='relu')(encoded)\n",
    "encoded = Dense(10, activation='sigmoid')(encoded)\n",
    "\n",
    "# \"decoded\" is the lossy reconstruction of the input\n",
    "decoded = Dense(500, activation='relu')(encoded)\n",
    "decoded = Dense(500, activation='relu')(decoded)\n",
    "decoded = Dense(2000, activation='relu')(decoded)\n",
    "decoded = Dense(784)(decoded)\n",
    "\n",
    "# this model maps an input to its reconstruction\n",
    "autoencoder = Model(input_img, decoded)"
   ]
  },
  {
   "cell_type": "code",
   "execution_count": null,
   "metadata": {},
   "outputs": [],
   "source": [
    "autoencoder.fit(x, x, batch_size = 32, epochs = 10)\n",
    "autoencoder.save_weights('./results/ae_weight.h5')"
   ]
  }
 ],
 "metadata": {
  "kernelspec": {
   "display_name": "Python 3",
   "language": "python",
   "name": "python3"
  },
  "language_info": {
   "codemirror_mode": {
    "name": "ipython",
    "version": 3
   },
   "file_extension": ".py",
   "mimetype": "text/x-python",
   "name": "python",
   "nbconvert_exporter": "python",
   "pygments_lexer": "ipython3",
   "version": "3.7.5"
  }
 },
 "nbformat": 4,
 "nbformat_minor": 2
}
